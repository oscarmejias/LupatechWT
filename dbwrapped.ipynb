{
 "cells": [
  {
   "cell_type": "code",
   "execution_count": 19,
   "metadata": {},
   "outputs": [],
   "source": [
    "import pandas as pd\n",
    "from datetime import datetime\n",
    "import db"
   ]
  },
  {
   "cell_type": "code",
   "execution_count": 30,
   "metadata": {},
   "outputs": [],
   "source": [
    "df = pd.DataFrame.from_dict(db.data.find())"
   ]
  },
  {
   "cell_type": "code",
   "execution_count": 27,
   "metadata": {},
   "outputs": [],
   "source": [
    "class WrappedDataFrame:\n",
    "    def __init__(self, df):\n",
    "        self._df = df\n",
    "        self._update_computed_columns()\n",
    "        self._update_dataframe\n",
    "\n",
    "    def _update_computed_columns(self):\n",
    "        # Define all your computed columns\n",
    "        self._df['densidad'] = self._df['masa'] / self._df['volumen']\n",
    "\n",
    "    def _update_dataframe(self):\n",
    "        self._df = pd.DataFrame.from_records(db.data.find())\n",
    "\n",
    "    @property\n",
    "    def df(self):\n",
    "        self._update_dataframe()\n",
    "        self._update_computed_columns()\n",
    "        return self._df\n",
    "    \n",
    "df1 = WrappedDataFrame(df)"
   ]
  },
  {
   "cell_type": "code",
   "execution_count": 31,
   "metadata": {},
   "outputs": [
    {
     "data": {
      "text/html": [
       "<div>\n",
       "<style scoped>\n",
       "    .dataframe tbody tr th:only-of-type {\n",
       "        vertical-align: middle;\n",
       "    }\n",
       "\n",
       "    .dataframe tbody tr th {\n",
       "        vertical-align: top;\n",
       "    }\n",
       "\n",
       "    .dataframe thead th {\n",
       "        text-align: right;\n",
       "    }\n",
       "</style>\n",
       "<table border=\"1\" class=\"dataframe\">\n",
       "  <thead>\n",
       "    <tr style=\"text-align: right;\">\n",
       "      <th></th>\n",
       "      <th>date</th>\n",
       "      <th>_id</th>\n",
       "      <th>masa</th>\n",
       "      <th>volumen</th>\n",
       "    </tr>\n",
       "  </thead>\n",
       "  <tbody>\n",
       "    <tr>\n",
       "      <th>0</th>\n",
       "      <td>2022-12-15 00:00:00</td>\n",
       "      <td>639b4fa65bd8c179ea1a5dd7</td>\n",
       "      <td>64.0</td>\n",
       "      <td>1.32</td>\n",
       "    </tr>\n",
       "    <tr>\n",
       "      <th>1</th>\n",
       "      <td>2022-12-15 01:00:00</td>\n",
       "      <td>639b5ab31224d30b89d771cd</td>\n",
       "      <td>48.0</td>\n",
       "      <td>1.17</td>\n",
       "    </tr>\n",
       "    <tr>\n",
       "      <th>2</th>\n",
       "      <td>2022-12-15 01:00:00</td>\n",
       "      <td>639b5d0f663c4ae1cd7151ef</td>\n",
       "      <td>48.0</td>\n",
       "      <td>1.17</td>\n",
       "    </tr>\n",
       "    <tr>\n",
       "      <th>3</th>\n",
       "      <td>2022-12-15 02:00:00</td>\n",
       "      <td>639b619b727de97fd4fcc4ff</td>\n",
       "      <td>81.0</td>\n",
       "      <td>2.73</td>\n",
       "    </tr>\n",
       "    <tr>\n",
       "      <th>4</th>\n",
       "      <td>2022-12-15 03:00:00</td>\n",
       "      <td>639bb0c7727de97fd4fcc500</td>\n",
       "      <td>19.0</td>\n",
       "      <td>0.92</td>\n",
       "    </tr>\n",
       "  </tbody>\n",
       "</table>\n",
       "</div>"
      ],
      "text/plain": [
       "                 date                       _id  masa  volumen\n",
       "0 2022-12-15 00:00:00  639b4fa65bd8c179ea1a5dd7  64.0     1.32\n",
       "1 2022-12-15 01:00:00  639b5ab31224d30b89d771cd  48.0     1.17\n",
       "2 2022-12-15 01:00:00  639b5d0f663c4ae1cd7151ef  48.0     1.17\n",
       "3 2022-12-15 02:00:00  639b619b727de97fd4fcc4ff  81.0     2.73\n",
       "4 2022-12-15 03:00:00  639bb0c7727de97fd4fcc500  19.0     0.92"
      ]
     },
     "execution_count": 31,
     "metadata": {},
     "output_type": "execute_result"
    }
   ],
   "source": [
    "df.head()"
   ]
  },
  {
   "cell_type": "code",
   "execution_count": 29,
   "metadata": {},
   "outputs": [
    {
     "data": {
      "text/html": [
       "<div>\n",
       "<style scoped>\n",
       "    .dataframe tbody tr th:only-of-type {\n",
       "        vertical-align: middle;\n",
       "    }\n",
       "\n",
       "    .dataframe tbody tr th {\n",
       "        vertical-align: top;\n",
       "    }\n",
       "\n",
       "    .dataframe thead th {\n",
       "        text-align: right;\n",
       "    }\n",
       "</style>\n",
       "<table border=\"1\" class=\"dataframe\">\n",
       "  <thead>\n",
       "    <tr style=\"text-align: right;\">\n",
       "      <th></th>\n",
       "      <th>date</th>\n",
       "      <th>_id</th>\n",
       "      <th>masa</th>\n",
       "      <th>volumen</th>\n",
       "      <th>densidad</th>\n",
       "    </tr>\n",
       "  </thead>\n",
       "  <tbody>\n",
       "    <tr>\n",
       "      <th>0</th>\n",
       "      <td>2022-12-15 00:00:00</td>\n",
       "      <td>639b4fa65bd8c179ea1a5dd7</td>\n",
       "      <td>64.0</td>\n",
       "      <td>1.32</td>\n",
       "      <td>48.484848</td>\n",
       "    </tr>\n",
       "    <tr>\n",
       "      <th>1</th>\n",
       "      <td>2022-12-15 01:00:00</td>\n",
       "      <td>639b5ab31224d30b89d771cd</td>\n",
       "      <td>48.0</td>\n",
       "      <td>1.17</td>\n",
       "      <td>41.025641</td>\n",
       "    </tr>\n",
       "    <tr>\n",
       "      <th>2</th>\n",
       "      <td>2022-12-15 01:00:00</td>\n",
       "      <td>639b5d0f663c4ae1cd7151ef</td>\n",
       "      <td>48.0</td>\n",
       "      <td>1.17</td>\n",
       "      <td>41.025641</td>\n",
       "    </tr>\n",
       "    <tr>\n",
       "      <th>3</th>\n",
       "      <td>2022-12-15 02:00:00</td>\n",
       "      <td>639b619b727de97fd4fcc4ff</td>\n",
       "      <td>81.0</td>\n",
       "      <td>2.73</td>\n",
       "      <td>29.670330</td>\n",
       "    </tr>\n",
       "    <tr>\n",
       "      <th>4</th>\n",
       "      <td>2022-12-15 03:00:00</td>\n",
       "      <td>639bb0c7727de97fd4fcc500</td>\n",
       "      <td>19.0</td>\n",
       "      <td>0.92</td>\n",
       "      <td>20.652174</td>\n",
       "    </tr>\n",
       "  </tbody>\n",
       "</table>\n",
       "</div>"
      ],
      "text/plain": [
       "                 date                       _id  masa  volumen   densidad\n",
       "0 2022-12-15 00:00:00  639b4fa65bd8c179ea1a5dd7  64.0     1.32  48.484848\n",
       "1 2022-12-15 01:00:00  639b5ab31224d30b89d771cd  48.0     1.17  41.025641\n",
       "2 2022-12-15 01:00:00  639b5d0f663c4ae1cd7151ef  48.0     1.17  41.025641\n",
       "3 2022-12-15 02:00:00  639b619b727de97fd4fcc4ff  81.0     2.73  29.670330\n",
       "4 2022-12-15 03:00:00  639bb0c7727de97fd4fcc500  19.0     0.92  20.652174"
      ]
     },
     "execution_count": 29,
     "metadata": {},
     "output_type": "execute_result"
    }
   ],
   "source": [
    "df1._df.head()"
   ]
  },
  {
   "cell_type": "code",
   "execution_count": 23,
   "metadata": {},
   "outputs": [
    {
     "data": {
      "text/plain": [
       "<pymongo.results.InsertOneResult at 0x7f8428556c80>"
      ]
     },
     "execution_count": 23,
     "metadata": {},
     "output_type": "execute_result"
    }
   ],
   "source": [
    "db.data.insert_one({\n",
    "    'date': datetime(2022,12,15,3),\n",
    "    'masa': 19,\n",
    "    'volumen': 0.92,\n",
    "})"
   ]
  },
  {
   "cell_type": "code",
   "execution_count": 24,
   "metadata": {},
   "outputs": [
    {
     "data": {
      "text/plain": [
       "[{'date': datetime.datetime(2022, 12, 15, 0, 0),\n",
       "  '_id': ObjectId('639b4fa65bd8c179ea1a5dd7'),\n",
       "  'masa': 64.0,\n",
       "  'volumen': 1.32},\n",
       " {'date': datetime.datetime(2022, 12, 15, 1, 0),\n",
       "  '_id': ObjectId('639b5ab31224d30b89d771cd'),\n",
       "  'masa': 48,\n",
       "  'volumen': 1.17},\n",
       " {'date': datetime.datetime(2022, 12, 15, 1, 0),\n",
       "  '_id': ObjectId('639b5d0f663c4ae1cd7151ef'),\n",
       "  'masa': 48,\n",
       "  'volumen': 1.17},\n",
       " {'date': datetime.datetime(2022, 12, 15, 2, 0),\n",
       "  '_id': ObjectId('639b619b727de97fd4fcc4ff'),\n",
       "  'masa': 81,\n",
       "  'volumen': 2.73},\n",
       " {'date': datetime.datetime(2022, 12, 15, 3, 0),\n",
       "  '_id': ObjectId('639bb0c7727de97fd4fcc500'),\n",
       "  'masa': 19,\n",
       "  'volumen': 0.92}]"
      ]
     },
     "execution_count": 24,
     "metadata": {},
     "output_type": "execute_result"
    }
   ],
   "source": [
    "list(db.data.find())"
   ]
  },
  {
   "cell_type": "code",
   "execution_count": null,
   "metadata": {},
   "outputs": [],
   "source": []
  }
 ],
 "metadata": {
  "kernelspec": {
   "display_name": "streamlit",
   "language": "python",
   "name": "python3"
  },
  "language_info": {
   "codemirror_mode": {
    "name": "ipython",
    "version": 3
   },
   "file_extension": ".py",
   "mimetype": "text/x-python",
   "name": "python",
   "nbconvert_exporter": "python",
   "pygments_lexer": "ipython3",
   "version": "3.9.12"
  },
  "orig_nbformat": 4,
  "vscode": {
   "interpreter": {
    "hash": "9d473e8e7fc2aa0983c132c3ee22d0b99cf552629c2bc8e1d54eafe7158ea242"
   }
  }
 },
 "nbformat": 4,
 "nbformat_minor": 2
}
